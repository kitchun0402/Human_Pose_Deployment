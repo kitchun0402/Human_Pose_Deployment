{
 "cells": [
  {
   "cell_type": "code",
   "execution_count": 7,
   "metadata": {},
   "outputs": [
    {
     "data": {
      "text/plain": [
       "array([[[12, 17, 16],\n",
       "        [12, 17, 16],\n",
       "        [12, 17, 16],\n",
       "        ...,\n",
       "        [ 4,  9,  8],\n",
       "        [ 4,  9,  8],\n",
       "        [ 4,  9,  8]],\n",
       "\n",
       "       [[12, 17, 16],\n",
       "        [12, 17, 16],\n",
       "        [12, 17, 16],\n",
       "        ...,\n",
       "        [ 4,  9,  8],\n",
       "        [ 4,  9,  8],\n",
       "        [ 4,  9,  8]],\n",
       "\n",
       "       [[12, 17, 16],\n",
       "        [12, 17, 16],\n",
       "        [12, 17, 16],\n",
       "        ...,\n",
       "        [ 4,  9,  8],\n",
       "        [ 4,  9,  8],\n",
       "        [ 4,  9,  8]],\n",
       "\n",
       "       ...,\n",
       "\n",
       "       [[10, 22, 24],\n",
       "        [10, 22, 24],\n",
       "        [10, 22, 24],\n",
       "        ...,\n",
       "        [ 3, 15,  0],\n",
       "        [ 3, 16,  0],\n",
       "        [ 3, 17,  0]],\n",
       "\n",
       "       [[11, 23, 25],\n",
       "        [11, 23, 25],\n",
       "        [11, 23, 25],\n",
       "        ...,\n",
       "        [ 2, 16,  0],\n",
       "        [ 2, 17,  0],\n",
       "        [ 2, 18,  0]],\n",
       "\n",
       "       [[11, 23, 25],\n",
       "        [11, 23, 25],\n",
       "        [11, 23, 25],\n",
       "        ...,\n",
       "        [ 2, 17,  0],\n",
       "        [ 2, 18,  0],\n",
       "        [ 2, 19,  0]]], dtype=uint8)"
      ]
     },
     "execution_count": 7,
     "metadata": {},
     "output_type": "execute_result"
    }
   ],
   "source": [
    "import requests\n",
    "import cv2\n",
    "import numpy as np\n",
    "url = 'http://192.168.31.134:8080/shot.jpg'\n",
    "# url = 'http://192.168.31.204:8888/shot.jpg'\n",
    "img_resp = requests.get(url)\n",
    "img_array = np.array(bytearray(img_resp.content), dtype = 'uint8')\n",
    "cv2_img = cv2.imdecode(img_array, -1) #-1 unchanged 1 greyscale \n",
    "cv2_img\n",
    "# cv2.imshow('123',cv2_img)\n",
    "# cv2.waitKey(0)\n",
    "# cv2.destroyAllWindows()"
   ]
  },
  {
   "cell_type": "code",
   "execution_count": null,
   "metadata": {},
   "outputs": [],
   "source": []
  }
 ],
 "metadata": {
  "kernelspec": {
   "display_name": "Python 3",
   "language": "python",
   "name": "python3"
  },
  "language_info": {
   "codemirror_mode": {
    "name": "ipython",
    "version": 3
   },
   "file_extension": ".py",
   "mimetype": "text/x-python",
   "name": "python",
   "nbconvert_exporter": "python",
   "pygments_lexer": "ipython3",
   "version": "3.7.3"
  }
 },
 "nbformat": 4,
 "nbformat_minor": 2
}
